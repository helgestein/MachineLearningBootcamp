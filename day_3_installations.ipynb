{
 "cells": [
  {
   "attachments": {},
   "cell_type": "markdown",
   "metadata": {},
   "source": [
    "# Installation Instructions\n",
    "\n",
    "Depending on your system you will need to do different things ...\n",
    "\n",
    "I'm assuming there are most likely going to be htree scenarios:\n",
    "\n",
    "- You have a windows machine and a dedicated graphics card\n",
    "- You have a mac with one of the newer M1 or M2 processors\n",
    "- You have some other computer\n",
    "\n",
    "I generated these lengthy descriptions with chatGPT but they work :-)"
   ]
  },
  {
   "attachments": {},
   "cell_type": "markdown",
   "metadata": {},
   "source": [
    "# Windows & GPU\n",
    "\n",
    "Skip the anaconda part if you got it already!\n",
    "\n",
    "1. Install NVIDIA GPU drivers. Go to the NVIDIA website and download the latest drivers for your graphics card. Follow the installation prompts to install the drivers.\n",
    "\n",
    "2. Install CUDA Toolkit. Go to the NVIDIA website and download the appropriate version of the CUDA Toolkit for your system. Follow the installation prompts to install the CUDA Toolkit.\n",
    "\n",
    "3. Install cuDNN. Go to the NVIDIA website and download the appropriate version of cuDNN for your system. Follow the installation prompts to install cuDNN.\n",
    "\n",
    "4. Install Anaconda. Go to the Anaconda website and download the latest version of Anaconda for your system. Follow the installation prompts to install Anaconda.\n",
    "\n",
    "4. Open the Anaconda prompt and create a new environment with Python 3.7 or higher, by running the following command:\n",
    "\n",
    "```lua\n",
    "conda create -n env_name python=3.7\n",
    "```\n",
    "\n",
    "Replace env_name with the name of the environment you want to create.\n",
    "\n",
    "Activate the environment by running the following command:\n",
    "\n",
    "```lua\n",
    "conda activate env_name\n",
    "```\n",
    "\n",
    "Then install pytorch\n",
    "\n",
    "```lua\n",
    "conda install pytorch torchvision torchaudio cudatoolkit=11.2 -c pytorch -c conda-forge\n",
    "```\n",
    "\n",
    "and then \n",
    "\n",
    "```lua\n",
    "conda install tensorflow-gpu keras\n",
    "```\n",
    "\n",
    "This will install the GPU-accelerated version of PyTorch.\n"
   ]
  },
  {
   "cell_type": "code",
   "execution_count": 1,
   "metadata": {},
   "outputs": [
    {
     "name": "stdout",
     "output_type": "stream",
     "text": [
      "TensorFlow version: 2.11.0\n",
      "PyTorch version: 1.13.1+cu116\n",
      "CUDA available: True\n"
     ]
    }
   ],
   "source": [
    "import tensorflow as tf\n",
    "import torch\n",
    "\n",
    "print(\"TensorFlow version:\", tf.__version__)\n",
    "print(\"PyTorch version:\", torch.__version__)\n",
    "print(\"CUDA available:\", torch.cuda.is_available())\n"
   ]
  },
  {
   "attachments": {},
   "cell_type": "markdown",
   "metadata": {},
   "source": [
    "Output should be similar to what is printed or:\n",
    "```lua\n",
    "TensorFlow version: 2.7.0\n",
    "PyTorch version: 1.10.0\n",
    "CUDA available: True\n",
    "```"
   ]
  },
  {
   "attachments": {},
   "cell_type": "markdown",
   "metadata": {},
   "source": [
    "# macOS with either M1 or M2 processor\n",
    "\n",
    "\n",
    "1. Install the Apple Developer Tools. Open the Terminal and type the following command:\n",
    "```lua\n",
    "   xcode-select --install\n",
    "```\n",
    "4. Create a new conda environment. In the Terminal, type the following command to create a new environment:\n",
    "```lua\n",
    "   conda create --name env_name python=3.9\n",
    "```\n",
    "   Replace `env_name` with the name of the environment you want to create.\n",
    "\n",
    "5. Activate the environment. In the Terminal, type the following command to activate the environment:\n",
    "```lua\n",
    "   conda activate env_name\n",
    "```\n",
    "   Replace `env_name` with the name of the environment you created in step 4.\n",
    "\n",
    "6. Install PyTorch. In the Terminal, type the following command to install PyTorch:\n",
    "```lua\n",
    "   conda install pytorch torchvision -c pytorch -c apple\n",
    "```\n",
    "\n",
    "7. Install Keras/TensorFlow. In the Terminal, type the following command to install Keras/TensorFlow:\n",
    "```lua\n",
    "   pip install keras tensorflow-macos\n",
    "```\n",
    "\n",
    "8. Test the installation. Open a Python script in your environment and add the following code:\n",
    "```lua\n",
    "   import torch\n",
    "   import tensorflow as tf\n",
    "   import keras\n",
    "   print(\"PyTorch version:\", torch.__version__)\n",
    "   print(\"TensorFlow version:\", tf.__version__)\n",
    "   print(\"Keras version:\", keras.__version__)\n",
    "```\n",
    "\n",
    "9. Run the script. If everything is installed correctly, you should see output similar to the following:\n",
    "```lua\n",
    "   PyTorch version: 1.9.0\n",
    "   TensorFlow version: 2.6.0\n",
    "   Keras version: 2.6.0\n",
    "```\n",
    "\n",
    "Congratulations, you have successfully installed PyTorch and Keras/TensorFlow on your M1 or M2 Mac with GPU acceleration!\n",
    "\n",
    "Note: If you encounter any issues during the installation process, refer to the documentation of the respective packages for troubleshooting.\n"
   ]
  },
  {
   "attachments": {},
   "cell_type": "markdown",
   "metadata": {},
   "source": [
    "# Anything else/ running this in the cloud\n",
    "\n",
    "This assumes you have a google account\n",
    "\n",
    "1. Go to the Google Colab website at https://colab.research.google.com/. You will need a Google account to use Colab.\n",
    "\n",
    "2. Click on \"New Notebook\" to create a new Colab notebook.\n",
    "\n",
    "3. To install packages, you can use the `!pip` command followed by the package name. For example, to install NumPy, type the following command in a code cell:\n",
    "```lua\n",
    "   !pip install numpy\n",
    "```\n",
    "4. To check if a package is already installed, you can use the `!pip show` command followed by the package name. For example, to check if NumPy is installed, type the following command in a code cell:\n",
    "```lua\n",
    "   !pip show numpy\n",
    "```\n",
    "5. If you need to upgrade a package, you can use the `!pip install --upgrade` command followed by the package name. For example, to upgrade NumPy, type the following command in a code cell:\n",
    "```lua\n",
    "   !pip install --upgrade numpy\n",
    "```\n",
    "6. If you need to install packages from a specific source or version, you can add the source or version to the `!pip` command. For example, to install a specific version of TensorFlow, type the following command in a code cell:\n",
    "```lua\n",
    "   !pip install tensorflow==2.6.0\n",
    "```\n",
    "7. To use a package that you've installed, you can simply import it in a code cell. For example, to import NumPy, type the following command in a code cell:\n",
    "```lua\n",
    "   import numpy as np\n",
    "```\n",
    "\n",
    "That's it! You can now install and use packages in your Google Colab instance. Note that the installed packages will persist until the instance is shut down. If you need to install packages every time you start a new Colab notebook, you can add the `!pip install` commands to the first cell of the notebook.\n"
   ]
  },
  {
   "cell_type": "markdown",
   "metadata": {},
   "source": []
  }
 ],
 "metadata": {
  "kernelspec": {
   "display_name": "base",
   "language": "python",
   "name": "python3"
  },
  "language_info": {
   "codemirror_mode": {
    "name": "ipython",
    "version": 3
   },
   "file_extension": ".py",
   "mimetype": "text/x-python",
   "name": "python",
   "nbconvert_exporter": "python",
   "pygments_lexer": "ipython3",
   "version": "3.9.13"
  },
  "orig_nbformat": 4,
  "vscode": {
   "interpreter": {
    "hash": "6705a6e538b370740f21ec7ffd66950b4b5f48bbc7661dcef0aae75a11c54bfd"
   }
  }
 },
 "nbformat": 4,
 "nbformat_minor": 2
}
