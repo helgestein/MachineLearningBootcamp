{
 "cells": [
  {
   "attachments": {},
   "cell_type": "markdown",
   "metadata": {},
   "source": [
    "After lunch Projects\n",
    "\n",
    "1.  **Project Title**: Comparing Molecule Embeddings with UMAP and PCA\n",
    "- **Description**: In this project, students would use UMAP and PCA to visualize a set of molecules using the Morgan fingerprints method. They would compare the shape of the embedding spaces produced by the two techniques and discuss the advantages and disadvantages of each. Additionally, they would research differentiable methods for generating molecule embeddings and compare them to the Morgan fingerprints method. Finally, they would explore the possibility of using the embeddings to generate new molecules.\n",
    "- **Potential Outcome**: Students would gain a deeper understanding of dimensionality reduction techniques and their application to molecular data. They would also learn about different methods for generating molecule embeddings and the potential for using them to discover new molecules.\n",
    "\n",
    "2.  **Project Title**: Visualizing the Image Spectrum and Composition Dataset\n",
    "- *Description*: In this project, students would use a dimensionality reduction technique to visualize a dataset of images from the Image Spectrum and Composition Dataset. They would also plot the respective colors over the points in the embedding space and analyze whether there are any trends with composition. This could involve comparing the performance of different dimensionality reduction techniques or trying out different methods for visualizing the colors.\n",
    "- **Potential Outcome**: Students would gain experience working with high-dimensional image data and dimensionality reduction techniques. They would also develop skills in data visualization and analysis.\n",
    "\n",
    "3. **Project Title**: Visualizing Battery Cycling Data with Dimensionality Reduction\n",
    "- **Description**: In this project, students would explore the use of dimensionality reduction techniques to visualize the I(t) data from a battery cycling dataset. They would try out different techniques such as t-SNE or UMAP and compare the resulting visualizations. They would also analyze the results to see if they can identify any patterns or trends in the data.\n",
    "- **Potential Outcome**: Students would gain experience working with time-series data and dimensionality reduction techniques. They would also develop skills in data visualization and analysis.\n",
    "\n",
    "4. **Project Title**: Testing the Limits of NNMF with Synthetic XRD Data\n",
    "- **Description**: In this project, students would generate a synthetic dataset of X-ray diffraction (XRD) data and use non-negative matrix factorization (NNMF) to analyze it. They would generate two fake XRD patterns with Gaussian peaks at semi-random positions, and then shift these patterns with respect to each other. Using Vegard's Law, they would show how the reflexes would shift upon alloying. They would then perform NNMF with two or more components and analyze how physical the results are. They would also generate pair distance matrices for different intensities and analyze the results.\n",
    "- **Potential Outcome**: Students would gain experience working with X-ray diffraction data and non-negative matrix factorization. They would also develop skills in synthetic data generation and critical analysis."
   ]
  },
  {
   "cell_type": "code",
   "execution_count": null,
   "metadata": {},
   "outputs": [],
   "source": []
  }
 ],
 "metadata": {
  "kernelspec": {
   "display_name": "base",
   "language": "python",
   "name": "python3"
  },
  "language_info": {
   "codemirror_mode": {
    "name": "ipython",
    "version": 3
   },
   "file_extension": ".py",
   "mimetype": "text/x-python",
   "name": "python",
   "nbconvert_exporter": "python",
   "pygments_lexer": "ipython3",
   "version": "3.9.13"
  },
  "orig_nbformat": 4,
  "vscode": {
   "interpreter": {
    "hash": "6705a6e538b370740f21ec7ffd66950b4b5f48bbc7661dcef0aae75a11c54bfd"
   }
  }
 },
 "nbformat": 4,
 "nbformat_minor": 2
}
